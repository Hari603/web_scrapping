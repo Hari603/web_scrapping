{
 "cells": [
  {
   "cell_type": "code",
   "execution_count": 3,
   "metadata": {},
   "outputs": [
    {
     "name": "stdout",
     "output_type": "stream",
     "text": [
      "200\n"
     ]
    }
   ],
   "source": [
    "import requests\n",
    "# This is about getting the data[HTML page] of websites\n",
    "topic_url='https://github.com/topics'\n",
    "response=requests.get(topic_url)\n",
    "print(response.status_code)"
   ]
  },
  {
   "cell_type": "code",
   "execution_count": 5,
   "metadata": {},
   "outputs": [],
   "source": [
    "page_content=response.text\n",
    "# print(page_content)\n",
    "page_content[:1000]\n",
    "\n",
    "with open(\"webpage.html\",\"w+\",encoding=\"utf-8\") as f:\n",
    "    f.write(page_content)\n",
    "#print(page_content)"
   ]
  },
  {
   "cell_type": "code",
   "execution_count": 6,
   "metadata": {},
   "outputs": [],
   "source": [
    "#After getting the data we have to parse[Structured way] using beautiful soup\n",
    "\n",
    "from bs4 import BeautifulSoup\n",
    "doc=BeautifulSoup(page_content,\"html.parser\")\n",
    "#print(doc)\n"
   ]
  },
  {
   "cell_type": "code",
   "execution_count": 4,
   "metadata": {},
   "outputs": [],
   "source": [
    "#To find how many topics present in the page[p tags]\n",
    "# p_tags=doc.find_all('p')\n",
    "# len(p_tags)\n"
   ]
  },
  {
   "cell_type": "code",
   "execution_count": 7,
   "metadata": {},
   "outputs": [
    {
     "data": {
      "text/plain": [
       "30"
      ]
     },
     "execution_count": 7,
     "metadata": {},
     "output_type": "execute_result"
    }
   ],
   "source": [
    "selection_class=\"f3 lh-condensed mb-0 mt-1 Link--primary\"\n",
    "p_tags=doc.find_all(\"p\",{\"class\":selection_class})\n",
    "len(p_tags)"
   ]
  },
  {
   "cell_type": "code",
   "execution_count": 8,
   "metadata": {},
   "outputs": [
    {
     "data": {
      "text/plain": [
       "30"
      ]
     },
     "execution_count": 8,
     "metadata": {},
     "output_type": "execute_result"
    }
   ],
   "source": [
    "#Topic discrpitions\n",
    "\n",
    "topic_discrption=\"f5 color-fg-muted mb-0 mt-1\"\n",
    "topic_discrption_tags=doc.find_all(\"p\",{\"class\":topic_discrption})\n",
    "len(topic_discrption_tags)\n",
    "# topic_discrption_tags[:5]"
   ]
  },
  {
   "cell_type": "code",
   "execution_count": 9,
   "metadata": {},
   "outputs": [
    {
     "name": "stdout",
     "output_type": "stream",
     "text": [
      "https://github.com/topics/3d\n"
     ]
    }
   ],
   "source": [
    "topic_link_tags=doc.find_all('a',{\"class\":'no-underline flex-grow-0'})\n",
    "len(topic_link_tags)\n",
    "#print(topic_link_tags)\n",
    "topic0_url=\"https://github.com\"+topic_link_tags[0]['href']\n",
    "print(topic0_url)"
   ]
  },
  {
   "cell_type": "code",
   "execution_count": 10,
   "metadata": {},
   "outputs": [
    {
     "name": "stdout",
     "output_type": "stream",
     "text": [
      "['3D', 'Ajax', 'Algorithm', 'Amp', 'Android']\n"
     ]
    }
   ],
   "source": [
    "#getting whole topic lists\n",
    "\n",
    "topic_lst=[]\n",
    "for tags in p_tags:\n",
    "    topic_lst.append(tags.text)\n",
    "print(topic_lst[:5])"
   ]
  },
  {
   "cell_type": "code",
   "execution_count": 11,
   "metadata": {},
   "outputs": [
    {
     "data": {
      "text/plain": [
       "['\\n          3D modeling is the process of virtually developing the surface and structure of a 3D object.\\n        ',\n",
       " '\\n          Ajax is a technique for creating interactive web applications.\\n        ',\n",
       " '\\n          Algorithms are self-contained sequences that carry out a variety of tasks.\\n        ']"
      ]
     },
     "execution_count": 11,
     "metadata": {},
     "output_type": "execute_result"
    }
   ],
   "source": [
    "#topic descriptions\n",
    "topic_desc=[]\n",
    "for tags in topic_discrption_tags:\n",
    "    topic_desc.append(tags.text)\n",
    "topic_desc[:3]"
   ]
  },
  {
   "cell_type": "code",
   "execution_count": 52,
   "metadata": {},
   "outputs": [
    {
     "data": {
      "text/plain": [
       "'https://github.com/topics/angular'"
      ]
     },
     "execution_count": 52,
     "metadata": {},
     "output_type": "execute_result"
    }
   ],
   "source": [
    "topic_url=[]\n",
    "base_url='https://github.com'\n",
    "for tags in topic_link_tags:\n",
    "    topic_url.append(base_url+tags['href'])\n",
    "topic_url[5]"
   ]
  },
  {
   "cell_type": "code",
   "execution_count": 29,
   "metadata": {},
   "outputs": [
    {
     "name": "stdout",
     "output_type": "stream",
     "text": [
      "Collecting pandas\n",
      "  Downloading pandas-1.4.3-cp310-cp310-win_amd64.whl (10.5 MB)\n",
      "     --------------------------------------- 10.5/10.5 MB 44.8 kB/s eta 0:00:00\n",
      "Requirement already satisfied: pytz>=2020.1 in c:\\users\\hp\\desktop\\python dev\\lib\\site-packages (from pandas) (2022.2.1)\n",
      "Collecting numpy>=1.21.0\n",
      "  Downloading numpy-1.23.2-cp310-cp310-win_amd64.whl (14.6 MB)\n",
      "     --------------------------------------- 14.6/14.6 MB 30.8 kB/s eta 0:00:00\n",
      "Requirement already satisfied: python-dateutil>=2.8.1 in c:\\users\\hp\\desktop\\python dev\\lib\\site-packages (from pandas) (2.8.2)\n",
      "Requirement already satisfied: six>=1.5 in c:\\users\\hp\\desktop\\python dev\\lib\\site-packages (from python-dateutil>=2.8.1->pandas) (1.16.0)\n",
      "Installing collected packages: numpy, pandas\n",
      "Successfully installed numpy-1.23.2 pandas-1.4.3\n"
     ]
    },
    {
     "name": "stderr",
     "output_type": "stream",
     "text": [
      "\n",
      "[notice] A new release of pip available: 22.2.1 -> 22.2.2\n",
      "[notice] To update, run: python.exe -m pip install --upgrade pip\n"
     ]
    }
   ],
   "source": [
    "! pip install pandas"
   ]
  },
  {
   "cell_type": "code",
   "execution_count": 13,
   "metadata": {},
   "outputs": [],
   "source": [
    "# To create CSV files pandas has to download\n",
    "import pandas as pd"
   ]
  },
  {
   "cell_type": "code",
   "execution_count": 14,
   "metadata": {},
   "outputs": [],
   "source": [
    "# we are arranging the topictitles,topic descriptions and links in one row\n",
    "# dictonaries is the best way to do \n",
    "topics_dict={\n",
    "    'titles':p_tags,\n",
    "     'descriptions':topic_discrption_tags,\n",
    "     'urls':topic_url\n",
    "}\n",
    "# print(topics_dict)\n"
   ]
  },
  {
   "cell_type": "code",
   "execution_count": 15,
   "metadata": {},
   "outputs": [],
   "source": [
    "#Here we are segretatting the data in the structural way using pandas\n",
    "topics_df=pd.DataFrame(topics_dict)\n",
    "# topics_desc"
   ]
  },
  {
   "cell_type": "code",
   "execution_count": 16,
   "metadata": {},
   "outputs": [],
   "source": [
    "#creating CSV\n",
    "topics_df.to_csv('topics.csv',index=None)\n",
    "    "
   ]
  },
  {
   "cell_type": "code",
   "execution_count": 38,
   "metadata": {},
   "outputs": [
    {
     "name": "stdout",
     "output_type": "stream",
     "text": [
      "https://github.com/topics/ajax\n"
     ]
    },
    {
     "data": {
      "text/plain": [
       "200"
      ]
     },
     "execution_count": 38,
     "metadata": {},
     "output_type": "execute_result"
    }
   ],
   "source": [
    "#getting info about each and every topic\n",
    "#Topic page url\n",
    "topic_page_url=topic_url[1]\n",
    "print(topic_page_url)\n",
    "response=requests.get(topic_page_url)\n",
    "response.status_code\n"
   ]
  },
  {
   "cell_type": "code",
   "execution_count": 18,
   "metadata": {},
   "outputs": [],
   "source": [
    "topic_doc=BeautifulSoup(response.text,'html.parser')\n",
    "# topic_doc"
   ]
  },
  {
   "cell_type": "code",
   "execution_count": 19,
   "metadata": {},
   "outputs": [
    {
     "data": {
      "text/plain": [
       "20"
      ]
     },
     "execution_count": 19,
     "metadata": {},
     "output_type": "execute_result"
    }
   ],
   "source": [
    "# To get the No.of user and repo tags\n",
    "h3_selection_class=\"f3 color-fg-muted text-normal lh-condensed\"\n",
    "repo_tags=topic_doc.find_all(\"h3\",{\"class\":h3_selection_class})\n",
    "len(repo_tags)\n",
    "#repo_tags[0]"
   ]
  },
  {
   "cell_type": "code",
   "execution_count": 20,
   "metadata": {},
   "outputs": [
    {
     "data": {
      "text/plain": [
       "'mrdoob'"
      ]
     },
     "execution_count": 20,
     "metadata": {},
     "output_type": "execute_result"
    }
   ],
   "source": [
    "#user name\n",
    "a_tags=repo_tags[0].find_all('a')\n",
    "a_tags[0].text.strip()"
   ]
  },
  {
   "cell_type": "code",
   "execution_count": 21,
   "metadata": {},
   "outputs": [
    {
     "data": {
      "text/plain": [
       "'three.js'"
      ]
     },
     "execution_count": 21,
     "metadata": {},
     "output_type": "execute_result"
    }
   ],
   "source": [
    "#Repo name\n",
    "a_tags[1].text.strip()\n"
   ]
  },
  {
   "cell_type": "code",
   "execution_count": 22,
   "metadata": {},
   "outputs": [
    {
     "name": "stdout",
     "output_type": "stream",
     "text": [
      "htts://github.com/mrdoob/three.js\n"
     ]
    }
   ],
   "source": [
    "# To get repo url for the topic[3D]\n",
    "base_url=\"htts://github.com\"\n",
    "repo_url=base_url+ a_tags[1]['href']\n",
    "print(repo_url)"
   ]
  },
  {
   "cell_type": "code",
   "execution_count": 23,
   "metadata": {},
   "outputs": [
    {
     "data": {
      "text/plain": [
       "20"
      ]
     },
     "execution_count": 23,
     "metadata": {},
     "output_type": "execute_result"
    }
   ],
   "source": [
    "#Stars tags\n",
    "# stars_calss=\"Counter js-social-count\"\n",
    "span_tag=\"Counter js-social-count\"\n",
    "stars_tag=topic_doc.find_all('span',{\"class\":span_tag})\n",
    "len(stars_tag)\n",
    "# print(stars_tag)"
   ]
  },
  {
   "cell_type": "code",
   "execution_count": 24,
   "metadata": {},
   "outputs": [
    {
     "data": {
      "text/plain": [
       "'84.7k'"
      ]
     },
     "execution_count": 24,
     "metadata": {},
     "output_type": "execute_result"
    }
   ],
   "source": [
    "stars_tag[0].text.strip()"
   ]
  },
  {
   "cell_type": "code",
   "execution_count": 25,
   "metadata": {},
   "outputs": [],
   "source": [
    "#making a function which gives all stars counts\n",
    "def parse_star_count (stars_tag):\n",
    "    stars_tag=stars_tag.strip()\n",
    "    if stars_tag[-1]=='k':\n",
    "        return int(float(stars_tag[:-1])*1000)\n",
    "    return int(stars_tag)\n",
    "    "
   ]
  },
  {
   "cell_type": "code",
   "execution_count": 26,
   "metadata": {},
   "outputs": [
    {
     "data": {
      "text/plain": [
       "84700"
      ]
     },
     "execution_count": 26,
     "metadata": {},
     "output_type": "execute_result"
    }
   ],
   "source": [
    "parse_star_count(stars_tag[0].text.strip())"
   ]
  },
  {
   "cell_type": "code",
   "execution_count": 27,
   "metadata": {},
   "outputs": [],
   "source": [
    "#making a function which give username,reponame,stars count and url\n",
    "def get_repo_info(h3_selection_class,stars_tag):\n",
    "    #returns all info about repository\n",
    "    a_tags=h3_selection_class.find_all('a')\n",
    "    username=a_tags[0].text.strip()\n",
    "    repo_name=a_tags[1].text.strip()\n",
    "    repo_url=base_url+a_tags[1]['href']\n",
    "    stars=parse_star_count(stars_tag.text.strip())\n",
    "    return username,repo_name,stars,repo_url\n",
    "    "
   ]
  },
  {
   "cell_type": "code",
   "execution_count": 37,
   "metadata": {},
   "outputs": [
    {
     "data": {
      "text/plain": [
       "('libgdx', 'libgdx', 20400, 'htts://github.com/libgdx/libgdx')"
      ]
     },
     "execution_count": 37,
     "metadata": {},
     "output_type": "execute_result"
    }
   ],
   "source": [
    "get_repo_info(repo_tags[1],stars_tag[1])\n"
   ]
  },
  {
   "cell_type": "code",
   "execution_count": 29,
   "metadata": {},
   "outputs": [],
   "source": [
    "#getting username,reponame,stars and links in structrued way for 3D\n",
    "topic_repo_dict={\n",
    "    \"username\":[],\n",
    "    \"repo_name\":[],\n",
    "    \"stars\":[],\n",
    "    \"repo_url\":[]\n",
    "    }\n",
    "for i in range(len(repo_tags)):\n",
    "    repo_info=get_repo_info(repo_tags[i],stars_tag[i])\n",
    "    topic_repo_dict[\"username\"].append(repo_info[0])\n",
    "    topic_repo_dict[\"repo_name\"].append(repo_info[1])\n",
    "    topic_repo_dict[\"stars\"].append(repo_info[2])\n",
    "    topic_repo_dict[\"repo_url\"].append(repo_info[3])\n",
    "    \n",
    "    "
   ]
  },
  {
   "cell_type": "code",
   "execution_count": 35,
   "metadata": {},
   "outputs": [],
   "source": [
    "# topic_repo_dict"
   ]
  },
  {
   "cell_type": "code",
   "execution_count": 53,
   "metadata": {},
   "outputs": [],
   "source": [
    "#By using pandas library we will give the data in structured way\n",
    "topic_repo_df=pd.DataFrame(topic_repo_dict)\n",
    "# topic_repo_df"
   ]
  },
  {
   "cell_type": "code",
   "execution_count": 50,
   "metadata": {},
   "outputs": [],
   "source": [
    "#Defining functions:\n",
    "def get_topic_page(topics_url):\n",
    "    #download the page\n",
    "    topic_url='https://github.com/topics'\n",
    "    response=requests.get(topics_url)    \n",
    "    #check sucessfull response\n",
    "    if response.status_code !=200:\n",
    "        raise Exception(\"failed to raise load page {}\".format(topic_url))\n",
    "    #parse beautiful soup\n",
    "    doc=BeautifulSoup(page_content,\"html.parser\")\n",
    "    return topic_doc\n",
    "\n",
    "#making a function which give username,reponame,stars count and url\n",
    "def get_repo_info(h3_selection_class,stars_tag):\n",
    "    #returns all info about repository\n",
    "    a_tags=h3_selection_class.find_all('a')\n",
    "    username=a_tags[0].text.strip()\n",
    "    repo_name=a_tags[1].text.strip()\n",
    "    repo_url=base_url+a_tags[1]['href']\n",
    "    stars=parse_star_count(stars_tag.text.strip())\n",
    "    return username,repo_name,stars,repo_url\n",
    "    \n",
    "\n",
    "def get_topic_repos(topic_doc):\n",
    "    #get h3 tags\n",
    "    h3_selection_class=\"f3 color-fg-muted text-normal lh-condensed\"\n",
    "    repo_tags=topic_doc.find_all(\"h3\",{\"class\":h3_selection_class})\n",
    "    #get stars tags\n",
    "    span_tag=\"Counter js-social-count\"\n",
    "    stars_tag=topic_doc.find_all('span',{\"class\":span_tag})\n",
    "    \n",
    "    topic_repo_dict={\n",
    "    \"username\":[],\n",
    "    \"repo_name\":[],\n",
    "    \"stars\":[],\n",
    "    \"repo_url\":[]\n",
    "    }\n",
    "    \n",
    "    #get repo_info\n",
    "    for i in range(len(repo_tags)):\n",
    "        repo_info=get_repo_info(repo_tags[i],stars_tag[i])\n",
    "        topic_repo_dict[\"username\"].append(repo_info[0])\n",
    "        topic_repo_dict[\"repo_name\"].append(repo_info[1])\n",
    "        topic_repo_dict[\"stars\"].append(repo_info[2])\n",
    "        topic_repo_dict[\"repo_url\"].append(repo_info[3])\n",
    "    return pd.DataFrame(topic_repo_dict)\n",
    "    \n",
    "\n",
    "\n",
    "    \n",
    "    \n",
    "    "
   ]
  },
  {
   "cell_type": "code",
   "execution_count": null,
   "metadata": {},
   "outputs": [],
   "source": []
  },
  {
   "cell_type": "code",
   "execution_count": 43,
   "metadata": {},
   "outputs": [],
   "source": [
    "url4=topic_url[4]"
   ]
  },
  {
   "cell_type": "code",
   "execution_count": 46,
   "metadata": {},
   "outputs": [],
   "source": [
    "topic4_doc=get_topic_page(url4)\n"
   ]
  },
  {
   "cell_type": "code",
   "execution_count": 48,
   "metadata": {},
   "outputs": [],
   "source": [
    "topic5_repo=get_topic_repos(topic4_doc)"
   ]
  },
  {
   "cell_type": "code",
   "execution_count": 56,
   "metadata": {},
   "outputs": [],
   "source": [
    "# topic5_repo"
   ]
  },
  {
   "cell_type": "code",
   "execution_count": 59,
   "metadata": {},
   "outputs": [],
   "source": [
    "# get_topic_repos(get_topic_page(topic_url[5]))"
   ]
  },
  {
   "cell_type": "code",
   "execution_count": null,
   "metadata": {},
   "outputs": [],
   "source": []
  }
 ],
 "metadata": {
  "kernelspec": {
   "display_name": "Python 3.10.6 64-bit",
   "language": "python",
   "name": "python3"
  },
  "language_info": {
   "codemirror_mode": {
    "name": "ipython",
    "version": 3
   },
   "file_extension": ".py",
   "mimetype": "text/x-python",
   "name": "python",
   "nbconvert_exporter": "python",
   "pygments_lexer": "ipython3",
   "version": "3.10.6"
  },
  "orig_nbformat": 4,
  "vscode": {
   "interpreter": {
    "hash": "b4be14e1d79b34832a6e3f9d2d71be81a7dfa3774def991a9f21241d5e2b826e"
   }
  }
 },
 "nbformat": 4,
 "nbformat_minor": 2
}
